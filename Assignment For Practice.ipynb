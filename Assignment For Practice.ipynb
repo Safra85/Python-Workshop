{
 "cells": [
  {
   "cell_type": "markdown",
   "id": "secondary-conservation",
   "metadata": {},
   "source": [
    "# Assignment For Practice\n",
    "\n",
    "\n",
    "### 1) Write a Python program to find those numbers which are divisible by 8 and 3 but multiple of 9, between 1000 and 1800 (both included).\n",
    "\n",
    "##### Solution: "
   ]
  },
  {
   "cell_type": "code",
   "execution_count": 1,
   "id": "brutal-gardening",
   "metadata": {},
   "outputs": [
    {
     "name": "stdout",
     "output_type": "stream",
     "text": [
      "1008\n",
      "1080\n",
      "1152\n",
      "1224\n",
      "1296\n",
      "1368\n",
      "1440\n",
      "1512\n",
      "1584\n",
      "1656\n",
      "1728\n"
     ]
    }
   ],
   "source": [
    "for i in range(1000,1800):\n",
    "    if i % 3 == 0 and i % 8 == 0 and i % 9 == 0:\n",
    "        print(i)"
   ]
  },
  {
   "cell_type": "markdown",
   "id": "athletic-paragraph",
   "metadata": {},
   "source": [
    "### 2) touple = ('I','E','E','E','H','S','T','U','S','B')\n",
    "### Using this touple, write a program whose output will be IEEE HSTU SB.\n",
    "\n",
    "##### Solution:"
   ]
  },
  {
   "cell_type": "code",
   "execution_count": 2,
   "id": "ignored-oakland",
   "metadata": {},
   "outputs": [
    {
     "name": "stdout",
     "output_type": "stream",
     "text": [
      "IEEE HSTU SB"
     ]
    }
   ],
   "source": [
    "tup = ('I','E','E','E','H','S','T','U','S','B')\n",
    "for i in range(4):\n",
    "    p = tup[i]\n",
    "    print(p, end= '')\n",
    "print(end=' ')\n",
    "for i in range(4,8):\n",
    "    p = tup[i]\n",
    "    print(p, end='')\n",
    "print(end=' ')\n",
    "for i in range(8,10):\n",
    "    p = tup[i]\n",
    "    print(p, end='')"
   ]
  },
  {
   "cell_type": "markdown",
   "id": "independent-manufacturer",
   "metadata": {},
   "source": [
    "### 3) Write a Python program to check a triangle is equilateral, isosceles or scalene.\n",
    "Note :\n",
    "An equilateral triangle is a triangle in which all three sides are equal.\n",
    "\n",
    "A scalene triangle is a triangle that has three unequal sides.\n",
    "\n",
    "An isosceles triangle is a triangle with (at least) two equal sides.\n",
    "\n",
    "\n",
    "##### Solution:\n"
   ]
  },
  {
   "cell_type": "code",
   "execution_count": 3,
   "id": "contained-placement",
   "metadata": {},
   "outputs": [
    {
     "name": "stdout",
     "output_type": "stream",
     "text": [
      "Input the three sides : 555\n",
      "The triangle is equilateral\n"
     ]
    }
   ],
   "source": [
    "a,b,c=input('Input the three sides : ')\n",
    "if a==b==c :\n",
    "    print('The triangle is equilateral')\n",
    "elif a==b or a==c :\n",
    "    print('The triangle is isosceles')\n",
    "else :\n",
    "    print('The triangle is scalene')"
   ]
  },
  {
   "cell_type": "markdown",
   "id": "demographic-biology",
   "metadata": {},
   "source": [
    "### 4) Write a Python program to create the multiplication table (from 1 to 10) of a number.\n",
    "\n",
    "##### Solution:"
   ]
  },
  {
   "cell_type": "code",
   "execution_count": 8,
   "id": "familiar-former",
   "metadata": {},
   "outputs": [
    {
     "name": "stdout",
     "output_type": "stream",
     "text": [
      "1 x 1 = 1\n",
      "2 x 2 = 4\n",
      "3 x 3 = 9\n",
      "4 x 4 = 16\n",
      "5 x 5 = 25\n",
      "6 x 6 = 36\n",
      "7 x 7 = 49\n",
      "8 x 8 = 64\n",
      "9 x 9 = 81\n",
      "10 x 10 = 100\n"
     ]
    }
   ],
   "source": [
    "for i in range(1, 11):\n",
    "      print(i,\"x\",i,\"=\",i*i)\n"
   ]
  },
  {
   "cell_type": "markdown",
   "id": "proved-apache",
   "metadata": {},
   "source": [
    "### 5) Write a python program to check whether a given year is a leap year.\n",
    "\n",
    "##### Solution:"
   ]
  },
  {
   "cell_type": "code",
   "execution_count": 4,
   "id": "cross-patch",
   "metadata": {},
   "outputs": [
    {
     "name": "stdout",
     "output_type": "stream",
     "text": [
      "Enter a Year : 2021\n",
      "This year is not a leap Year\n"
     ]
    }
   ],
   "source": [
    "y=int(input(\"Enter a Year : \"))\n",
    "if y%4 == 0 :\n",
    "    print('This Year is a Leap Year')\n",
    "else :\n",
    "    print('This year is not a leap Year')"
   ]
  },
  {
   "cell_type": "markdown",
   "id": "pleased-jonathan",
   "metadata": {},
   "source": [
    "### 6) Write the programs to get the areas of a) triangle, b)Rectangle, c) circle.\n",
    "\n",
    "##### Solution:"
   ]
  },
  {
   "cell_type": "code",
   "execution_count": 15,
   "id": "numeric-sharing",
   "metadata": {},
   "outputs": [
    {
     "name": "stdout",
     "output_type": "stream",
     "text": [
      "Enter base of triangle : 3\n",
      "Enter hight of triangle : 2\n",
      "The area of the triangle is =  3.0\n"
     ]
    }
   ],
   "source": [
    "# a)Area of triangle\n",
    "\n",
    "a = float(input(\"Enter base of triangle : \"))\n",
    "b = float(input(\"Enter hight of triangle : \"))\n",
    "area = ( a * b ) / 2\n",
    "print(\"The area of the triangle is = \" , area)"
   ]
  },
  {
   "cell_type": "code",
   "execution_count": 17,
   "id": "swedish-romance",
   "metadata": {},
   "outputs": [
    {
     "name": "stdout",
     "output_type": "stream",
     "text": [
      "Enter length of Rectangle : 5\n",
      "Enter  breadth of Rectangle : 5\n",
      "The area of the Rectangle is =  25.0\n"
     ]
    }
   ],
   "source": [
    "# a)Area of Rectangle\n",
    "\n",
    "a = float(input(\"Enter length of Rectangle : \"))\n",
    "b = float(input(\"Enter  breadth of Rectangle : \"))\n",
    "area = ( a * b )\n",
    "print(\"The area of the Rectangle is = \" , area)"
   ]
  },
  {
   "cell_type": "code",
   "execution_count": 18,
   "id": "electronic-anderson",
   "metadata": {},
   "outputs": [
    {
     "name": "stdout",
     "output_type": "stream",
     "text": [
      "Enter radius of Circle : 5\n",
      "The area of the Circle is =  78.53981633974483\n"
     ]
    }
   ],
   "source": [
    "# a)Area of Circle\n",
    "\n",
    "import math\n",
    "r = float(input(\"Enter radius of Circle : \"))\n",
    "area = ( math.pi * r * r)\n",
    "print(\"The area of the Circle is = \" , area)"
   ]
  }
 ],
 "metadata": {
  "kernelspec": {
   "display_name": "Python 3",
   "language": "python",
   "name": "python3"
  },
  "language_info": {
   "codemirror_mode": {
    "name": "ipython",
    "version": 3
   },
   "file_extension": ".py",
   "mimetype": "text/x-python",
   "name": "python",
   "nbconvert_exporter": "python",
   "pygments_lexer": "ipython3",
   "version": "3.9.2"
  }
 },
 "nbformat": 4,
 "nbformat_minor": 5
}
