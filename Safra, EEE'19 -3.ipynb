{
 "cells": [
  {
   "cell_type": "markdown",
   "id": "specialized-impossible",
   "metadata": {},
   "source": [
    "# Assignment: Episode Three\n",
    "\n",
    "\n",
    "\n"
   ]
  },
  {
   "cell_type": "markdown",
   "id": "metallic-alexandria",
   "metadata": {},
   "source": [
    "## About Flow Control"
   ]
  },
  {
   "cell_type": "markdown",
   "id": "nasty-proxy",
   "metadata": {},
   "source": [
    "# . . . . . . . . . . . . . . . . . . . . . . . . . . . . . . . . . . . . . . . . . . . . . . . . . . . . . . . . . . . . . . . .\n",
    "\n",
    "### ● What is flow control?\n",
    "\n",
    "#### Answer:\n",
    "A program's control flow is the order in which the program's code executes. The control flow of a Python program is regulated by conditional statements, loops, and function calls.\n",
    "\n",
    "\n",
    "\n",
    "### ● List all flow control with example.\n",
    "\n",
    "#### Answer: \n",
    "#### 1. Sequential:\n",
    "    \n"
   ]
  },
  {
   "cell_type": "code",
   "execution_count": null,
   "id": "latest-arrow",
   "metadata": {},
   "outputs": [],
   "source": [
    "## This is a Sequential statement:\n",
    " \n",
    "a=20\n",
    "b=10\n",
    "c=a*b\n",
    "print(\"The product is : \",c)"
   ]
  },
  {
   "cell_type": "markdown",
   "id": "royal-rehabilitation",
   "metadata": {},
   "source": [
    "2. Conditional Statement\n",
    "\n",
    "    - If\n",
    "    \n",
    "    - If else\n",
    "    \n",
    "    - If elif else\n",
    "    \n",
    "    - If elif\n"
   ]
  },
  {
   "cell_type": "code",
   "execution_count": null,
   "id": "linear-orlando",
   "metadata": {},
   "outputs": [],
   "source": [
    "## This is a Conditional statement:\n",
    "\n",
    "\n",
    "if(x==y):\n",
    "    print(\"Both are Equal\")\n",
    "elif(x>y):\n",
    "    print(\" x is greater than y\")\n",
    "else:\n",
    "    print(\" y is greater than x\")\n",
    "   "
   ]
  },
  {
   "cell_type": "markdown",
   "id": "cooperative-truck",
   "metadata": {},
   "source": [
    "3. Iterative statement\n",
    "\n",
    "    a. For\n",
    "\n",
    "    b. while\n",
    "\n",
    "\n",
    "4. Transfer statement\n",
    "\n",
    "    a. Break\n",
    "\n",
    "    b. Continue\n"
   ]
  },
  {
   "cell_type": "markdown",
   "id": "detected-sunset",
   "metadata": {},
   "source": [
    "## Conditional statement\n",
    "\n",
    "\n",
    "### ● What is conditional statement?\n",
    "\n",
    "#### Answer:\n",
    "Often,we need to execute some statements only if some condition holds, or choose statements to execute depending on several mutually exclusive conditions. The Python compound statement if, which uses if, elif, and else clauses, lets you conditionally execute blocks of statements.\n",
    "\n",
    "\n",
    "### ● Describe structure of conditional statement.\n",
    "\n",
    "#### Answer:\n",
    "Here's the syntax for the conditional statement:"
   ]
  },
  {
   "cell_type": "code",
   "execution_count": null,
   "id": "nominated-privacy",
   "metadata": {},
   "outputs": [],
   "source": [
    "if (condition 1):\n",
    "    statement(s1)\n",
    "    print(\"s1\")\n",
    "elif (condition) 2:\n",
    "    statement(s2)\n",
    "    print(\"s2\")\n",
    "elif (condition) 3:\n",
    "    statement(s3)\n",
    "    print(\"s3\")\n",
    "...\n",
    "else:\n",
    "    statement(s4)\n",
    "    print(\"s4\")"
   ]
  },
  {
   "cell_type": "markdown",
   "id": "discrete-marsh",
   "metadata": {},
   "source": [
    "## Problem 1\n",
    "#### ● Take input from a user and check whether the number is odd or even?\n",
    "\n",
    "#### Solution:\n"
   ]
  },
  {
   "cell_type": "code",
   "execution_count": 7,
   "id": "judicial-baseline",
   "metadata": {},
   "outputs": [
    {
     "name": "stdout",
     "output_type": "stream",
     "text": [
      "Enter an Integer Number: 55555\n",
      "55555 is an Odd Number\n"
     ]
    }
   ],
   "source": [
    "Num = int(input(\"Enter an Integer Number: \"))\n",
    "if (Num % 2 == 0):\n",
    "    print(Num,\"is an Even Number\")\n",
    "else:\n",
    "    print(Num,\"is an Odd Number\")"
   ]
  },
  {
   "cell_type": "markdown",
   "id": "fossil-better",
   "metadata": {},
   "source": [
    "## Problem 2\n",
    "#### ● Take integer input from user, say a\n",
    "1. Print number of sample, if 100 <= a < 200, and a is divisible by 9\n",
    "2. Display those numbers which are divisible by 7 and multiple of 5, between 500\n",
    "and 100\n",
    "\n",
    "#### Solution:"
   ]
  },
  {
   "cell_type": "code",
   "execution_count": 13,
   "id": "lucky-death",
   "metadata": {},
   "outputs": [
    {
     "name": "stdout",
     "output_type": "stream",
     "text": [
      "Enter a number: 350\n",
      "350 is divisible by 7 and multiple of 5, between 500 and 100\n"
     ]
    }
   ],
   "source": [
    "a = int(input(\"Enter a number: \"))\n",
    "if (a % 9 == 0 and 100 <= a <200):\n",
    "    print(a,\"is divisible by 9, between 100-200\")\n",
    "elif (a % 7 == 0 and a % 5 == 0 and 100 < a < 500):\n",
    "    print(a,\"is divisible by 7 and multiple of 5, between 500 and 100\")\n",
    "else:\n",
    "    print(\"Error\")\n"
   ]
  },
  {
   "cell_type": "markdown",
   "id": "guided-science",
   "metadata": {},
   "source": [
    "## Problem 3\n",
    "● Take year as a integer input from a user,\n",
    "\n",
    "check whether the year is leap year or not?\n",
    "\n",
    "\n",
    "#### Solution:\n"
   ]
  },
  {
   "cell_type": "code",
   "execution_count": 19,
   "id": "fabulous-princeton",
   "metadata": {},
   "outputs": [
    {
     "name": "stdout",
     "output_type": "stream",
     "text": [
      "Enter the year: 2020\n",
      "The year is a leap year\n"
     ]
    }
   ],
   "source": [
    "Y = int(input(\"Enter the year: \"))\n",
    "if (Y % 4 == 0 and Y % 100 != 0 or Y % 400 == 0):\n",
    "    print(\"The year is a leap year\")\n",
    "else:\n",
    "    print(\"The year is not a leap year\")"
   ]
  },
  {
   "cell_type": "markdown",
   "id": "successful-liberal",
   "metadata": {},
   "source": [
    "## Problem 4\n",
    "\n",
    "● Make a simple calculator (function : +, -, * and /)\n",
    "\n",
    "○ Take three input from a user, say, input1, input2, input3\n",
    "\n",
    "○ input 1 represents arithmetic sing ( +, -, * and /)\n",
    "\n",
    "○ Input 2 and input 3 represent number\n",
    "\n",
    "○ Display arithmetic output of input 2 and input 3 based on input 1\n",
    "\n",
    "#### Solution:"
   ]
  },
  {
   "cell_type": "code",
   "execution_count": 38,
   "id": "prostate-smoke",
   "metadata": {},
   "outputs": [
    {
     "name": "stdout",
     "output_type": "stream",
     "text": [
      "Enter arithmetic sign: /\n",
      "Enter a  Number: 10\n",
      "Enter a  Number: 2\n",
      "Quotient =  5.0\n"
     ]
    }
   ],
   "source": [
    "a=input(\"Enter arithmetic sign: \")\n",
    "b = int(input(\"Enter a  Number: \"))\n",
    "c = int(input(\"Enter a  Number: \"))\n",
    "if a==\"+\":\n",
    "    Sum=b+c\n",
    "    print(\"Sum = \",Sum)\n",
    "elif a==\"-\":\n",
    "    Sub=b-c\n",
    "    print(\"Subtraction = \",Sub)\n",
    "elif a==\"*\":\n",
    "    Mult=b*c\n",
    "    print(\"Multiplication = \",Mult)\n",
    "elif a==\"/\":\n",
    "    Quo=b/c\n",
    "    print(\"Quotient = \",Quo)    "
   ]
  },
  {
   "cell_type": "markdown",
   "id": "educated-recruitment",
   "metadata": {},
   "source": [
    "## Problem 5\n",
    "● Take a number from a user, check if the number is positive or negative or zero\n",
    "and display an appropriate message\n",
    "\n",
    "#### Solution:"
   ]
  },
  {
   "cell_type": "code",
   "execution_count": 23,
   "id": "sunset-chick",
   "metadata": {},
   "outputs": [
    {
     "name": "stdout",
     "output_type": "stream",
     "text": [
      "Enter an integer number: -5\n",
      "-5 is a negative nuumber\n"
     ]
    }
   ],
   "source": [
    "a = int(input(\"Enter an integer number: \"))\n",
    "if(a>0):\n",
    "    print(a,\"is a positive nuumber\")\n",
    "elif(a<0):\n",
    "    print(a,\"is a negative nuumber\")\n",
    "else:\n",
    "    print(\"Zero\")"
   ]
  },
  {
   "cell_type": "markdown",
   "id": "outer-mumbai",
   "metadata": {},
   "source": [
    "## Problem 6\n",
    "● Take values of length and breadth of a rectangle from a user and check if it is\n",
    "square or not.\n",
    "\n",
    "\n",
    "#### Solution:"
   ]
  },
  {
   "cell_type": "code",
   "execution_count": 26,
   "id": "induced-compiler",
   "metadata": {},
   "outputs": [
    {
     "name": "stdout",
     "output_type": "stream",
     "text": [
      "Enter length of the rectangle: 5\n",
      "Enter breadth of the rectangle: 5\n",
      "The reactangle is a Square\n"
     ]
    }
   ],
   "source": [
    "a = int(input(\"Enter length of the rectangle: \"))\n",
    "b = int(input(\"Enter breadth of the rectangle: \"))\n",
    "if(a == b):\n",
    "    print(\"The reactangle is a Square\")\n",
    "else:\n",
    "    print(\"The reactangle is not a Square\")\n"
   ]
  },
  {
   "cell_type": "markdown",
   "id": "bearing-oregon",
   "metadata": {},
   "source": [
    "## Problem 7\n",
    "● Take three int values from a user and display the highest and lowest number\n",
    "among them.\n",
    "\n",
    "\n",
    "#### Solution:"
   ]
  },
  {
   "cell_type": "code",
   "execution_count": 34,
   "id": "hungry-secondary",
   "metadata": {},
   "outputs": [
    {
     "name": "stdout",
     "output_type": "stream",
     "text": [
      "Enter first integer number : 1\n",
      "Enter second integer number : 2\n",
      "Enter third integer number: 3\n",
      "the highest number is =  3\n",
      "the lowest number is =  1\n"
     ]
    }
   ],
   "source": [
    "a = int(input(\"Enter first integer number : \"))\n",
    "b = int(input(\"Enter second integer number : \"))\n",
    "c = int(input(\"Enter third integer number: \"))\n",
    "\n",
    "if(a > b and a > c):\n",
    "    print(\"the highest number is = \",a)\n",
    "elif(b > a and b > c):\n",
    "    print(\"the highest number is = \",b)\n",
    "else:\n",
    "    print(\"the highest number is = \",c)\n",
    "    \n",
    "\n",
    "if(a < b and a < c):\n",
    "    print(\"the lowest number is = \",a)\n",
    "elif(b < a and b < c):\n",
    "    print(\"the lowest number is = \",b)\n",
    "else:\n",
    "    print(\"the lowest number is = \",c)"
   ]
  },
  {
   "cell_type": "markdown",
   "id": "fiscal-editor",
   "metadata": {},
   "source": [
    "## Problem 8\n",
    "● Ask a user to enter marks and print the corresponding grade.\n",
    "\n",
    "○ Grading should follow hstu grading structure\n",
    "\n",
    "\n",
    "#### Solution:"
   ]
  },
  {
   "cell_type": "code",
   "execution_count": 33,
   "id": "hollow-finder",
   "metadata": {},
   "outputs": [
    {
     "name": "stdout",
     "output_type": "stream",
     "text": [
      "Enter your marks: 90\n",
      "Your grade is = A+\n"
     ]
    }
   ],
   "source": [
    "a = int(input(\"Enter your marks: \"))\n",
    "if(0<a<=40):\n",
    "    print(\"Your grade is = F\")\n",
    "elif(40<a<=45):\n",
    "    print(\"Your grade is = D\")\n",
    "elif(45<a<=50):\n",
    "    print(\"Your grade is = C\")\n",
    "elif(50<a<=55):\n",
    "    print(\"Your grade is = C+\")\n",
    "elif(55<a<=60):\n",
    "    print(\"Your grade is = B-\")\n",
    "elif(60<a<=65):\n",
    "    print(\"Your grade is = B\")\n",
    "elif(65<a<=70):\n",
    "    print(\"Your grade is = B+\")\n",
    "elif(70<a<=75):\n",
    "    print(\"Your grade is = A-\")\n",
    "elif(75<a<=80):\n",
    "    print(\"Your grade is = A\")\n",
    "elif(80<a<=100):\n",
    "    print(\"Your grade is = A+\")"
   ]
  }
 ],
 "metadata": {
  "kernelspec": {
   "display_name": "Python 3",
   "language": "python",
   "name": "python3"
  },
  "language_info": {
   "codemirror_mode": {
    "name": "ipython",
    "version": 3
   },
   "file_extension": ".py",
   "mimetype": "text/x-python",
   "name": "python",
   "nbconvert_exporter": "python",
   "pygments_lexer": "ipython3",
   "version": "3.9.2"
  }
 },
 "nbformat": 4,
 "nbformat_minor": 5
}
