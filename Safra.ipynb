{
 "cells": [
  {
   "cell_type": "markdown",
   "id": "classical-income",
   "metadata": {},
   "source": [
    "<h1><center> Assignment Day 2     </h1> </center>\n",
    "\n",
    "### Safra Binte Sabbir\n",
    "#### EEE'19\n",
    "\n"
   ]
  },
  {
   "cell_type": "markdown",
   "id": "intensive-norfolk",
   "metadata": {},
   "source": [
    "\n",
    "\n",
    "## About Data Types"
   ]
  },
  {
   "cell_type": "markdown",
   "id": "reserved-father",
   "metadata": {},
   "source": [
    "● What is Data Type?\n",
    "\n",
    "● Describe all Data Types with Example."
   ]
  },
  {
   "cell_type": "markdown",
   "id": "everyday-fantasy",
   "metadata": {},
   "source": [
    "#### Answer:\n",
    "##### Data type: \n",
    "Data types are the classification or categorization of data items. It represents the kind of value that tells what operations can be performed on a particular data. Since everything is an object in Python programming, data types are actually classes and variables are object of these classes.\n",
    "\n",
    "##### Data types \n",
    "These are the standard or built-in data type of Python:\n",
    "\n",
    "1.Numeric\n",
    "2.Sequence Type\n",
    "3.Boolean\n",
    "3.Set\n",
    "4.Dictionary\n",
    "\n",
    "##### Numeric:\n",
    "In Python, numeric data type represent the data which has numeric value. Numeric value can be integer, floating number or even complex numbers. These values are defined as int, float and complex class in Python.\n",
    "Example: 5, 3.3333, 5+8j\n",
    "\n",
    "##### Sequence Type:\n",
    "In Python, sequence is the ordered collection of similar or different data types. Sequences allows to store multiple values in an organized and efficient fashion. There are several sequence types in Python –\n",
    "\n",
    "1.String: Abc\n",
    "2.List: l=[1,2,3]\n",
    "3.Tuple: T=(1,2,3)\n",
    "\n",
    "##### Boolean:\n",
    "Data type with one of the two built-in values, True or False. Boolean objects that are equal to True are truthy (true), and those equal to False are falsy (false). But non-Boolean objects can be evaluated in Boolean context as well and determined to be true or false. It is denoted by the class bool.\n",
    "\n",
    "##### Set:\n",
    "In Python, Set is an unordered collection of data type that is iterable, mutable and has no duplicate elements. The order of elements in a set is undefined though it may consist of various elements.\n",
    "Example: set{1,2,3}\n",
    "\n",
    "##### Dictionary\n",
    "Dictionary is an unordered collection of key-value pairs.\n",
    "\n",
    "It is generally used when we have a huge amount of data. Dictionaries are optimized for retrieving data. We must know the key to retrieve the value.\n",
    "\n",
    "In Python, dictionaries are defined within braces {} with each item being a pair in the form key:value. Key and value can be of any type.\n",
    "\n",
    "Example: D = {1:'One', 3: 'Three'}  "
   ]
  },
  {
   "cell_type": "markdown",
   "id": "radio-idaho",
   "metadata": {},
   "source": [
    "## Input And Output\n",
    "● Explain each parameter of print(*objects, sep=' ', end='\\n', file=sys.stdout,\n",
    "flush=False)"
   ]
  },
  {
   "cell_type": "markdown",
   "id": "southwest-fashion",
   "metadata": {},
   "source": [
    "#### Answer:\n",
    "The print() function prints the given object to the standard output device (screen) or to the text stream file.\n",
    "\n",
    "\n",
    "The full syntax of print() is:\n",
    "\n",
    "print(*objects, sep=' ', end='\\n', file=sys.stdout, flush=False)"
   ]
  },
  {
   "cell_type": "markdown",
   "id": "trained-ethics",
   "metadata": {},
   "source": [
    "## Operator\n",
    "● What is a python operator? Describe at least three types of operator."
   ]
  },
  {
   "cell_type": "markdown",
   "id": "elder-father",
   "metadata": {},
   "source": [
    "#### Answer:\n",
    "Python operator is a symbol that performs an operation on one or more operands. An operand is a variable or a value on which we perform the operation.\n",
    "\n",
    "Python Operator falls into 7 categories:\n",
    "\n",
    "1.Python Arithmetic Operator\n",
    "\n",
    "2.Python Relational Operator\n",
    "\n",
    "3.Python Assignment Operator\n",
    "\n",
    "4.Python Logical Operator\n",
    "\n",
    "5.Python Membership Operator\n",
    "\n",
    "6.Python Identity Operator\n",
    "\n",
    "7.Python Bitwise Operator\n",
    "\n",
    "\n",
    "\n",
    "\n",
    "\n",
    "\n",
    "#### 1.Python Arithmetic Operator:\n",
    "These Python arithmetic operators include Python operators for basic mathematical operations.\n",
    "Example:+,-,*,/\n",
    "\n",
    "#### 2.Python Relational Operator:\n",
    "Relational Python Operator carries out the comparison between operands.\n",
    "\n",
    "They tell us whether an operand is greater than the other, lesser, equal, or a combination of those.\n",
    "Example:<,>,<=,=>\n",
    "\n",
    "#### 4.Python Logical Operator:\n",
    "These are conjunctions that you can use to combine more than one condition.\n",
    "\n",
    "We have three Python logical operator – and, or, and not that come under python operators.\n"
   ]
  },
  {
   "cell_type": "markdown",
   "id": "reserved-village",
   "metadata": {},
   "source": [
    "### Problem 1:\n",
    "Define a list with 7 elements and print the 3rd elementof the list."
   ]
  },
  {
   "cell_type": "code",
   "execution_count": 5,
   "id": "every-segment",
   "metadata": {
    "scrolled": true
   },
   "outputs": [
    {
     "name": "stdout",
     "output_type": "stream",
     "text": [
      "3\n"
     ]
    }
   ],
   "source": [
    "l=[1,2,3,4,5,6,7]\n",
    "l1=l[2]\n",
    "print(l1)"
   ]
  },
  {
   "cell_type": "markdown",
   "id": "round-victim",
   "metadata": {},
   "source": [
    "### Problem 2:\n",
    "Take two input (say a and b)from user and print three lines where:\n",
    "1. The first line contains the sum of the two numbers.\n",
    "2. the second line contains the difference of the two numbers.\n",
    "3. The third line contains the product of the two numbers."
   ]
  },
  {
   "cell_type": "code",
   "execution_count": 8,
   "id": "backed-header",
   "metadata": {},
   "outputs": [
    {
     "name": "stdout",
     "output_type": "stream",
     "text": [
      "8\n",
      "-2\n",
      "15\n"
     ]
    }
   ],
   "source": [
    "a=3\n",
    "b=5\n",
    "var1=a+b\n",
    "print(var1)\n",
    "var2=a-b\n",
    "print(var2)\n",
    "var3=a*b\n",
    "print(var3)"
   ]
  },
  {
   "cell_type": "markdown",
   "id": "wicked-fireplace",
   "metadata": {},
   "source": [
    "### Problem 3:\n",
    "Take two inputs (say a and b) from the user and add logic to print two lines. The first line should contain the result of integer division. The second line should contain the result of float division."
   ]
  },
  {
   "cell_type": "code",
   "execution_count": 11,
   "id": "dated-transsexual",
   "metadata": {},
   "outputs": [
    {
     "name": "stdout",
     "output_type": "stream",
     "text": [
      "0\n",
      "0.6\n"
     ]
    }
   ],
   "source": [
    "a=3\n",
    "b=5\n",
    "print(a//b)\n",
    "print(a/b)"
   ]
  },
  {
   "cell_type": "markdown",
   "id": "metallic-century",
   "metadata": {},
   "source": [
    "### Problem 4:\n",
    "Write a Python program to display thr first and last colors from the followinf list color_list = [\"Red\",\"Green\",\"White\", \"Black\"]"
   ]
  },
  {
   "cell_type": "code",
   "execution_count": 15,
   "id": "advanced-world",
   "metadata": {},
   "outputs": [
    {
     "name": "stdout",
     "output_type": "stream",
     "text": [
      "Red,Black\n"
     ]
    }
   ],
   "source": [
    "color_list = [\"Red\",\"Green\",\"White\", \"Black\"]\n",
    "l1=color_list[0]\n",
    "l2=color_list[3]\n",
    "print(l1,l2, sep=',')"
   ]
  },
  {
   "cell_type": "markdown",
   "id": "alike-mainstream",
   "metadata": {},
   "source": [
    "### Problem 5:\n",
    "Write a Python program to print the following\n",
    "\n",
    "Sample string :\n",
    "\n",
    "\n",
    "a string that you \"don't\" have to escape\n",
    "\n",
    "\n",
    "This\n",
    "\n",
    "is a ....... multi-line\n",
    "\n",
    "heredoc string --------> example"
   ]
  },
  {
   "cell_type": "code",
   "execution_count": 18,
   "id": "alpine-start",
   "metadata": {},
   "outputs": [
    {
     "name": "stdout",
     "output_type": "stream",
     "text": [
      "Sample string:\n",
      "a string that you \"don`t\" have to escape\n",
      "This\n",
      "is a ....... multi-line\n",
      "heredoc string --------> example\n"
     ]
    }
   ],
   "source": [
    "print(\"Sample string:\")\n",
    "print('a string that you \"don`t\" have to escape')\n",
    "print(\"This\")\n",
    "print(\"is a ....... multi-line\")\n",
    "print(\"heredoc string --------> example\")\n"
   ]
  },
  {
   "cell_type": "markdown",
   "id": "brazilian-trading",
   "metadata": {},
   "source": [
    "### Problem 6:\n",
    "Write a Python program that will accept the base and height of a triangle and\n",
    "compute the area."
   ]
  },
  {
   "cell_type": "code",
   "execution_count": 42,
   "id": "sexual-interpretation",
   "metadata": {},
   "outputs": [
    {
     "name": "stdout",
     "output_type": "stream",
     "text": [
      "Enter base of triangle:8\n",
      "Enter hight of triangle:5\n",
      "The area of the triangle is =20.0\n"
     ]
    }
   ],
   "source": [
    "a = float(input(\"Enter base of triangle:\"))\n",
    "b = float(input(\"Enter hight of triangle:\"))\n",
    "area = ( a * b ) / 2\n",
    "print(\"The area of the triangle is \" , area, sep='=')"
   ]
  },
  {
   "cell_type": "markdown",
   "id": "crude-render",
   "metadata": {},
   "source": [
    "### Problem 7:\n",
    "Write a Python program to display your details like name, age, address in three\n",
    "different lines."
   ]
  },
  {
   "cell_type": "code",
   "execution_count": 13,
   "id": "major-tiffany",
   "metadata": {},
   "outputs": [
    {
     "name": "stdout",
     "output_type": "stream",
     "text": [
      "Name: Safra Binte Sabbir\n",
      "Age : 21\n",
      "Adderes : Dinajpur\n"
     ]
    }
   ],
   "source": [
    "print(\"Name: Safra Binte Sabbir\")\n",
    "print(\"Age : 21\")\n",
    "print(\"Adderes : Dinajpur\")"
   ]
  },
  {
   "cell_type": "markdown",
   "id": "labeled-assurance",
   "metadata": {},
   "source": [
    "### Problem 8:\n",
    "Python Program for compound interest.\n",
    "\n",
    "Formula to calculate compound interest annually is given by:\n",
    "\n",
    "A = P(1 + R/100)^t\n",
    "\n",
    "Compound Interest = A – P\n",
    "\n",
    "Where,\n",
    "\n",
    "A is amount\n",
    "\n",
    "P is principle amount\n",
    "\n",
    "R is the rate and\n",
    "\n",
    "T is the time span"
   ]
  },
  {
   "cell_type": "code",
   "execution_count": 44,
   "id": "prerequisite-taste",
   "metadata": {},
   "outputs": [
    {
     "name": "stdout",
     "output_type": "stream",
     "text": [
      "Enter the value of P:5\n",
      "Enter the value of R:4\n",
      "Enter the value of t:3\n",
      "A=5.624320000000001\n"
     ]
    }
   ],
   "source": [
    "P = float(input(\"Enter the value of P:\"))\n",
    "R = float(input(\"Enter the value of R:\"))\n",
    "t = float(input(\"Enter the value of t:\"))\n",
    "A = P*(1 + R/100)**t\n",
    "\n",
    "print(\"A\" ,A ,sep = '=')\n"
   ]
  },
  {
   "cell_type": "markdown",
   "id": "agricultural-retirement",
   "metadata": {},
   "source": [
    "3\n",
    "### Problem 9:\n",
    "Print output like this\n",
    "\n",
    "    * * * * *\n",
    "     * * * *\n",
    "      * * *\n",
    "       * *\n",
    "        *"
   ]
  },
  {
   "cell_type": "code",
   "execution_count": 31,
   "id": "danish-albuquerque",
   "metadata": {},
   "outputs": [
    {
     "name": "stdout",
     "output_type": "stream",
     "text": [
      "  * * * * * \n",
      "   * * * * \n",
      "    * * * \n",
      "     * * \n",
      "      * \n"
     ]
    }
   ],
   "source": [
    "num=5\n",
    "x=' '\n",
    "k='* '\n",
    "print(x,\"* \"*num)\n",
    "print((x*2),k*(num-1))\n",
    "print((x*3),k*(num-2))\n",
    "print((x*4),k*(num-3))\n",
    "print((x*5),k*(num-4))"
   ]
  },
  {
   "cell_type": "markdown",
   "id": "italian-effort",
   "metadata": {},
   "source": [
    "### Problem 10:\n",
    "Python Program to Convert Celsius To Fahrenheit."
   ]
  },
  {
   "cell_type": "code",
   "execution_count": 29,
   "id": "hourly-regulation",
   "metadata": {},
   "outputs": [
    {
     "name": "stdout",
     "output_type": "stream",
     "text": [
      "Enter the Celsius Temperature: 32\n",
      "The Fahrenheit temperature is: 89.6\n"
     ]
    }
   ],
   "source": [
    "Celsius = float(input(\"Enter the Celsius Temperature: \"))\n",
    "Fahrenheit = (Celsius * 1.8 ) + 32\n",
    "print(\"The Fahrenheit temperature is:\",Fahrenheit)"
   ]
  }
 ],
 "metadata": {
  "kernelspec": {
   "display_name": "Python 3",
   "language": "python",
   "name": "python3"
  },
  "language_info": {
   "codemirror_mode": {
    "name": "ipython",
    "version": 3
   },
   "file_extension": ".py",
   "mimetype": "text/x-python",
   "name": "python",
   "nbconvert_exporter": "python",
   "pygments_lexer": "ipython3",
   "version": "3.9.2"
  }
 },
 "nbformat": 4,
 "nbformat_minor": 5
}
