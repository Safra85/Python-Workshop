{
 "cells": [
  {
   "cell_type": "markdown",
   "id": "classical-income",
   "metadata": {},
   "source": [
    "Safra Binte Sabbir\n",
    "ID:1902264"
   ]
  },
  {
   "cell_type": "code",
   "execution_count": 1,
   "id": "terminal-account",
   "metadata": {},
   "outputs": [
    {
     "name": "stdout",
     "output_type": "stream",
     "text": [
      "PUBG\n"
     ]
    }
   ],
   "source": [
    "print(\"PUBG\")"
   ]
  },
  {
   "cell_type": "markdown",
   "id": "former-payroll",
   "metadata": {},
   "source": [
    "Problem 1"
   ]
  },
  {
   "cell_type": "code",
   "execution_count": 5,
   "id": "extended-harvey",
   "metadata": {},
   "outputs": [
    {
     "name": "stdout",
     "output_type": "stream",
     "text": [
      "3\n"
     ]
    }
   ],
   "source": [
    "l=[1,2,3,4,5,6,7]\n",
    "l1=l[2]\n",
    "print(l1)"
   ]
  },
  {
   "cell_type": "markdown",
   "id": "associate-roller",
   "metadata": {},
   "source": [
    "Problem 4"
   ]
  },
  {
   "cell_type": "code",
   "execution_count": 3,
   "id": "surprising-germany",
   "metadata": {},
   "outputs": [
    {
     "name": "stdout",
     "output_type": "stream",
     "text": [
      "red\n"
     ]
    }
   ],
   "source": [
    "l=[\"red\", \"blue\", \"green\"]\n",
    "l1=l[0]\n",
    "print(l1)"
   ]
  },
  {
   "cell_type": "markdown",
   "id": "alpine-shade",
   "metadata": {},
   "source": [
    "Problem 2"
   ]
  },
  {
   "cell_type": "code",
   "execution_count": 8,
   "id": "backed-header",
   "metadata": {},
   "outputs": [
    {
     "name": "stdout",
     "output_type": "stream",
     "text": [
      "8\n",
      "-2\n",
      "15\n"
     ]
    }
   ],
   "source": [
    "a=3\n",
    "b=5\n",
    "var1=a+b\n",
    "print(var1)\n",
    "var2=a-b\n",
    "print(var2)\n",
    "var3=a*b\n",
    "print(var3)"
   ]
  },
  {
   "cell_type": "code",
   "execution_count": null,
   "id": "loved-pearl",
   "metadata": {},
   "outputs": [],
   "source": []
  }
 ],
 "metadata": {
  "kernelspec": {
   "display_name": "Python 3",
   "language": "python",
   "name": "python3"
  },
  "language_info": {
   "codemirror_mode": {
    "name": "ipython",
    "version": 3
   },
   "file_extension": ".py",
   "mimetype": "text/x-python",
   "name": "python",
   "nbconvert_exporter": "python",
   "pygments_lexer": "ipython3",
   "version": "3.9.2"
  }
 },
 "nbformat": 4,
 "nbformat_minor": 5
}
